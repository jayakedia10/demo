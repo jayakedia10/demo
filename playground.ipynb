{
 "cells": [
  {
   "cell_type": "code",
   "execution_count": 1,
   "metadata": {},
   "outputs": [],
   "source": [
    "from src.utils.data_generator import SampleTransactionsDataGenerator"
   ]
  },
  {
   "cell_type": "code",
   "execution_count": 2,
   "metadata": {},
   "outputs": [
    {
     "data": {
      "application/vnd.microsoft.datawrangler.viewer.v0+json": {
       "columns": [
        {
         "name": "index",
         "rawType": "int64",
         "type": "integer"
        },
        {
         "name": "customer_id",
         "rawType": "object",
         "type": "string"
        },
        {
         "name": "transaction_id",
         "rawType": "object",
         "type": "string"
        },
        {
         "name": "amount",
         "rawType": "float64",
         "type": "float"
        },
        {
         "name": "category",
         "rawType": "object",
         "type": "string"
        },
        {
         "name": "mcc",
         "rawType": "object",
         "type": "string"
        },
        {
         "name": "location",
         "rawType": "object",
         "type": "string"
        },
        {
         "name": "transaction_date",
         "rawType": "datetime64[ns]",
         "type": "datetime"
        },
        {
         "name": "merchant_id",
         "rawType": "object",
         "type": "string"
        },
        {
         "name": "country",
         "rawType": "object",
         "type": "string"
        },
        {
         "name": "currency",
         "rawType": "object",
         "type": "string"
        },
        {
         "name": "payment_method",
         "rawType": "object",
         "type": "string"
        },
        {
         "name": "payment_sub_type",
         "rawType": "object",
         "type": "string"
        },
        {
         "name": "pin_verified",
         "rawType": "bool",
         "type": "boolean"
        },
        {
         "name": "device_id",
         "rawType": "object",
         "type": "unknown"
        },
        {
         "name": "ip_address",
         "rawType": "object",
         "type": "unknown"
        },
        {
         "name": "latitude",
         "rawType": "float64",
         "type": "float"
        },
        {
         "name": "longitude",
         "rawType": "float64",
         "type": "float"
        },
        {
         "name": "alert_history",
         "rawType": "bool",
         "type": "boolean"
        }
       ],
       "ref": "a91da458-4782-4f2b-9fea-8706082cd428",
       "rows": [
        [
         "0",
         "1",
         "tx_1_1",
         "802.13",
         "Restaurant",
         "5812",
         "Colaba",
         "2025-06-17 14:18:22.110574",
         "merchant_1_Restaurant_3",
         "India",
         "INR",
         "Contactless",
         "Tap to Pay",
         "False",
         null,
         null,
         "19.119863",
         "72.847864",
         "True"
        ],
        [
         "1",
         "1",
         "tx_1_2",
         "17430.83",
         "Electronics",
         "5732",
         "Thane",
         "2025-06-17 14:13:22.110574",
         "merchant_2",
         "India",
         "INR",
         "CNP",
         "Online",
         "False",
         null,
         "192.168.28.42",
         null,
         null,
         "True"
        ],
        [
         "2",
         "1",
         "tx_1_3",
         "1740.01",
         "Grocery",
         "5411",
         "Dadar",
         "2025-06-17 13:51:22.110574",
         "merchant_1_Grocery_3",
         "India",
         "INR",
         "Contactless",
         "Tap to Pay",
         "False",
         null,
         null,
         "19.064828",
         "72.903419",
         "True"
        ],
        [
         "3",
         "1",
         "tx_1_4",
         "1997.76",
         "Fuel",
         "5541",
         "Bandra",
         "2025-06-17 13:38:22.110574",
         "merchant_1_Fuel_1",
         "India",
         "INR",
         "Card Present",
         "Mag Stripe",
         "True",
         null,
         null,
         "19.177863",
         "72.893058",
         "True"
        ],
        [
         "4",
         "1",
         "tx_1_5",
         "48762.8",
         "Education",
         "8299",
         "Kurla",
         "2025-05-24 08:19:22.110574",
         "merchant_8",
         "India",
         "INR",
         "CNP",
         "Online",
         "False",
         null,
         "192.168.127.74",
         null,
         null,
         "True"
        ],
        [
         "5",
         "1",
         "tx_1_6",
         "2839.53",
         "Restaurant",
         "5812",
         "Borivali",
         "2025-05-24 07:25:22.110574",
         "merchant_1_Restaurant_1",
         "India",
         "INR",
         "Card Present",
         "Token NFC",
         "True",
         "device_2",
         null,
         "19.061875",
         "72.883216",
         "True"
        ],
        [
         "6",
         "1",
         "tx_1_7",
         "47950.0",
         "Travel",
         "4511",
         "Andheri",
         "2025-04-26 16:46:22.110574",
         "merchant_1_Travel_1",
         "India",
         "INR",
         "Card Present",
         "Mag Stripe",
         "True",
         null,
         null,
         "18.94668",
         "72.961319",
         "True"
        ],
        [
         "7",
         "1",
         "tx_1_8",
         "8574.38",
         "Education",
         "8299",
         "Powai",
         "2025-04-26 16:41:22.110574",
         "merchant_15",
         "India",
         "INR",
         "Card Present",
         "Mag Stripe",
         "False",
         null,
         null,
         "19.01008",
         "72.847495",
         "True"
        ],
        [
         "8",
         "1",
         "tx_1_9",
         "4833.07",
         "Healthcare",
         "8011",
         "Kurla",
         "2025-04-26 15:59:22.110574",
         "merchant_1_Healthcare_1",
         "India",
         "INR",
         "Card Present",
         "Token NFC",
         "False",
         "device_2",
         null,
         "19.013855",
         "72.802439",
         "True"
        ],
        [
         "9",
         "1",
         "tx_1_10",
         "3772.77",
         "Clothing",
         "5651",
         "Dadar",
         "2025-04-03 14:25:22.110574",
         "merchant_13",
         "India",
         "INR",
         "CNP",
         "Online",
         "False",
         null,
         "192.168.146.51",
         null,
         null,
         "True"
        ],
        [
         "10",
         "1",
         "tx_1_11",
         "621.01",
         "Entertainment",
         "7832",
         "Kurla",
         "2025-04-03 14:08:22.110574",
         "merchant_1_Entertainment_1",
         "India",
         "INR",
         "Card Present",
         "Mag Stripe",
         "False",
         null,
         null,
         "19.116193",
         "72.938097",
         "True"
        ],
        [
         "11",
         "1",
         "tx_1_12",
         "22068.4",
         "Electronics",
         "5732",
         "Dadar",
         "2025-04-03 13:36:22.110574",
         "merchant_1_Electronics_2",
         "India",
         "INR",
         "Contactless",
         "Tap to Pay",
         "False",
         null,
         null,
         "19.043703",
         "72.803193",
         "True"
        ],
        [
         "12",
         "1",
         "tx_1_13",
         "31788.77",
         "Electronics",
         "5732",
         "Dadar",
         "2025-04-03 04:52:22.110574",
         "merchant_4",
         "India",
         "INR",
         "Card Present",
         "Mag Stripe",
         "False",
         null,
         null,
         "19.16592",
         "72.923717",
         "True"
        ],
        [
         "13",
         "1",
         "tx_1_14",
         "39840.7",
         "Education",
         "8299",
         "Andheri",
         "2025-04-03 04:08:22.110574",
         "merchant_1_Education_2",
         "India",
         "INR",
         "Contactless",
         "Mobile Wallet",
         "False",
         "device_2",
         null,
         "19.003833",
         "72.96682",
         "True"
        ],
        [
         "14",
         "1",
         "tx_1_15",
         "8167.06",
         "Healthcare",
         "8011",
         "Dadar",
         "2025-04-03 03:58:22.110574",
         "merchant_1_Healthcare_1",
         "India",
         "INR",
         "Contactless",
         "Tap to Pay",
         "False",
         null,
         null,
         "19.150166",
         "72.841897",
         "True"
        ],
        [
         "15",
         "1",
         "tx_1_16",
         "1011.07",
         "Restaurant",
         "5812",
         "Vasai",
         "2025-04-03 03:49:22.110574",
         "merchant_1_Restaurant_3",
         "India",
         "INR",
         "Card Present",
         "Token NFC",
         "True",
         "device_2",
         null,
         "19.027948",
         "72.925463",
         "True"
        ],
        [
         "16",
         "1",
         "tx_1_17",
         "30968.36",
         "Travel",
         "4511",
         "Powai",
         "2025-04-03 03:42:22.110574",
         "merchant_2",
         "India",
         "INR",
         "CNP",
         "Online",
         "False",
         null,
         "192.168.212.139",
         null,
         null,
         "True"
        ],
        [
         "17",
         "1",
         "tx_1_18",
         "551.13",
         "Grocery",
         "5411",
         "Borivali",
         "2025-04-03 02:57:22.110574",
         "merchant_1_Grocery_2",
         "India",
         "INR",
         "CNP",
         "Online",
         "False",
         null,
         "192.168.156.83",
         null,
         null,
         "True"
        ],
        [
         "18",
         "1",
         "tx_1_19",
         "1898.76",
         "Healthcare",
         "8011",
         "Vasai",
         "2025-04-03 02:52:22.110574",
         "merchant_1_Healthcare_1",
         "India",
         "INR",
         "Card Present",
         "Mag Stripe",
         "True",
         null,
         null,
         "19.08119",
         "72.947024",
         "True"
        ],
        [
         "19",
         "1",
         "tx_1_20",
         "1980.45",
         "Healthcare",
         "8011",
         "Borivali",
         "2025-04-03 02:05:22.110574",
         "merchant_1_Healthcare_2",
         "India",
         "INR",
         "Contactless",
         "Tap to Pay",
         "False",
         null,
         null,
         "18.920406",
         "72.931145",
         "True"
        ],
        [
         "20",
         "1",
         "tx_1_21",
         "4988.78",
         "Clothing",
         "5651",
         "Vasai",
         "2025-03-13 07:17:22.110574",
         "merchant_6",
         "India",
         "INR",
         "Contactless",
         "Mobile Wallet",
         "False",
         "device_1",
         null,
         "19.15212",
         "72.904227",
         "True"
        ],
        [
         "21",
         "1",
         "tx_1_22",
         "1178.24",
         "Fuel",
         "5541",
         "Andheri",
         "2025-03-13 07:14:22.110574",
         "merchant_1_Fuel_2",
         "India",
         "INR",
         "Contactless",
         "Tap to Pay",
         "False",
         null,
         null,
         "18.925428",
         "72.876827",
         "True"
        ],
        [
         "22",
         "1",
         "tx_1_23",
         "6745.24",
         "Electronics",
         "5732",
         "Kurla",
         "2025-02-26 01:24:22.110574",
         "merchant_1_Electronics_3",
         "India",
         "INR",
         "Contactless",
         "Tap to Pay",
         "False",
         null,
         null,
         "19.188094",
         "72.986523",
         "True"
        ],
        [
         "23",
         "1",
         "tx_1_24",
         "39275.32",
         "Electronics",
         "5732",
         "Borivali",
         "2025-02-26 00:41:22.110574",
         "merchant_1_Electronics_3",
         "India",
         "INR",
         "Card Present",
         "EMV Chip",
         "False",
         null,
         null,
         "19.175803",
         "72.832124",
         "True"
        ],
        [
         "24",
         "1",
         "tx_1_25",
         "5469.19",
         "Healthcare",
         "8011",
         "Dadar",
         "2025-02-25 23:47:22.110574",
         "merchant_1_Healthcare_3",
         "India",
         "INR",
         "CNP",
         "Online",
         "False",
         null,
         "192.168.217.207",
         null,
         null,
         "True"
        ],
        [
         "25",
         "1",
         "tx_1_26",
         "972.23",
         "Entertainment",
         "7832",
         "Powai",
         "2025-02-25 23:28:22.110574",
         "merchant_1_Entertainment_3",
         "India",
         "INR",
         "CNP",
         "Online",
         "False",
         null,
         "192.168.170.191",
         null,
         null,
         "True"
        ],
        [
         "26",
         "1",
         "tx_1_27",
         "6209.46",
         "Healthcare",
         "8011",
         "Dadar",
         "2025-02-25 23:21:22.110574",
         "merchant_1_Healthcare_1",
         "India",
         "INR",
         "Card Present",
         "EMV Chip",
         "True",
         null,
         null,
         "19.147899",
         "72.930452",
         "True"
        ],
        [
         "27",
         "1",
         "tx_1_28",
         "5577.08",
         "Healthcare",
         "8011",
         "Kurla",
         "2025-02-25 23:03:22.110574",
         "merchant_1_Healthcare_1",
         "India",
         "INR",
         "Contactless",
         "Tap to Pay",
         "False",
         null,
         null,
         "19.059052",
         "72.898133",
         "True"
        ],
        [
         "28",
         "1",
         "tx_1_29",
         "611.45",
         "Restaurant",
         "5812",
         "Kurla",
         "2025-02-25 22:43:22.110574",
         "merchant_1_Restaurant_2",
         "India",
         "INR",
         "CNP",
         "Online",
         "False",
         null,
         "192.168.240.226",
         null,
         null,
         "True"
        ],
        [
         "29",
         "1",
         "tx_1_30",
         "5379.44",
         "Healthcare",
         "8011",
         "Dadar",
         "2025-02-25 22:03:22.110574",
         "merchant_15",
         "India",
         "INR",
         "Card Present",
         "Mag Stripe",
         "True",
         null,
         null,
         "18.990448",
         "72.900635",
         "True"
        ],
        [
         "30",
         "1",
         "tx_1_31",
         "4897.27",
         "Clothing",
         "5651",
         "Dadar",
         "2025-02-25 21:33:22.110574",
         "merchant_3",
         "India",
         "INR",
         "Card Present",
         "Token NFC",
         "True",
         "device_2",
         null,
         "19.191147",
         "72.844192",
         "True"
        ],
        [
         "31",
         "1",
         "tx_1_32",
         "2125.03",
         "Clothing",
         "5651",
         "Dadar",
         "2025-02-25 21:07:22.110574",
         "merchant_1_Clothing_1",
         "India",
         "INR",
         "Contactless",
         "Tap to Pay",
         "False",
         null,
         null,
         "19.174522",
         "72.941006",
         "True"
        ],
        [
         "32",
         "1",
         "tx_1_33",
         "1622.85",
         "Clothing",
         "5651",
         "Bandra",
         "2025-02-25 20:29:22.110574",
         "merchant_1_Clothing_2",
         "India",
         "INR",
         "Card Present",
         "Mag Stripe",
         "False",
         null,
         null,
         "19.094315",
         "72.944522",
         "True"
        ],
        [
         "33",
         "1",
         "tx_1_34",
         "2350.61",
         "Grocery",
         "5411",
         "Thane",
         "2025-02-25 20:28:22.110574",
         "merchant_1_Grocery_1",
         "India",
         "INR",
         "Contactless",
         "Tap to Pay",
         "False",
         null,
         null,
         "19.117707",
         "72.838761",
         "True"
        ],
        [
         "34",
         "1",
         "tx_1_35",
         "1978.53",
         "Clothing",
         "5651",
         "Navi Mumbai",
         "2025-02-25 19:49:22.110574",
         "merchant_1_Clothing_3",
         "India",
         "INR",
         "Contactless",
         "Tap to Pay",
         "False",
         null,
         null,
         "19.139974",
         "72.972857",
         "True"
        ],
        [
         "35",
         "1",
         "tx_1_36",
         "1190.65",
         "Entertainment",
         "7832",
         "Vasai",
         "2025-02-25 19:15:22.110574",
         "merchant_11",
         "India",
         "INR",
         "Card Present",
         "EMV Chip",
         "True",
         null,
         null,
         "19.082326",
         "72.948219",
         "True"
        ],
        [
         "36",
         "1",
         "tx_1_37",
         "2965.86",
         "Healthcare",
         "8011",
         "Powai",
         "2025-02-25 19:06:22.110574",
         "merchant_1_Healthcare_2",
         "India",
         "INR",
         "Contactless",
         "Mobile Wallet",
         "False",
         "device_1",
         null,
         "19.095264",
         "72.802714",
         "True"
        ],
        [
         "37",
         "1",
         "tx_1_38",
         "3727.48",
         "Clothing",
         "5651",
         "Colaba",
         "2025-02-25 18:28:22.110574",
         "merchant_3",
         "India",
         "INR",
         "CNP",
         "Online",
         "False",
         null,
         "192.168.18.206",
         null,
         null,
         "True"
        ],
        [
         "38",
         "1",
         "tx_1_39",
         "9298.26",
         "Education",
         "8299",
         "Kurla",
         "2025-02-25 18:24:22.110574",
         "merchant_7",
         "India",
         "INR",
         "Card Present",
         "Mag Stripe",
         "False",
         null,
         null,
         "18.90722",
         "72.844034",
         "True"
        ],
        [
         "39",
         "1",
         "tx_1_40",
         "1747.12",
         "Entertainment",
         "7832",
         "Andheri",
         "2025-02-25 18:15:22.110574",
         "merchant_8",
         "India",
         "INR",
         "CNP",
         "Online",
         "False",
         null,
         "192.168.52.109",
         null,
         null,
         "True"
        ],
        [
         "40",
         "1",
         "tx_1_41",
         "6500.9",
         "Travel",
         "4511",
         "Andheri",
         "2025-02-25 17:37:22.110574",
         "merchant_2",
         "India",
         "INR",
         "Card Present",
         "EMV Chip",
         "True",
         null,
         null,
         "19.126957",
         "72.807053",
         "True"
        ],
        [
         "41",
         "1",
         "tx_1_42",
         "4705.14",
         "Utilities",
         "4900",
         "Kurla",
         "2025-02-25 16:38:22.110574",
         "merchant_8",
         "India",
         "INR",
         "CNP",
         "Online",
         "False",
         null,
         "192.168.214.81",
         null,
         null,
         "True"
        ],
        [
         "42",
         "1",
         "tx_1_43",
         "940.5",
         "Grocery",
         "5411",
         "Dadar",
         "2025-02-25 16:13:22.110574",
         "merchant_1_Grocery_3",
         "India",
         "INR",
         "Card Present",
         "Mag Stripe",
         "False",
         null,
         null,
         "19.112963",
         "72.967257",
         "True"
        ],
        [
         "43",
         "1",
         "tx_1_44",
         "2920.19",
         "Grocery",
         "5411",
         "Andheri",
         "2025-02-25 15:29:22.110574",
         "merchant_1_Grocery_3",
         "India",
         "INR",
         "Contactless",
         "Tap to Pay",
         "False",
         null,
         null,
         "18.94602",
         "72.809925",
         "True"
        ],
        [
         "44",
         "1",
         "tx_1_45",
         "2494.02",
         "Clothing",
         "5651",
         "Kurla",
         "2025-02-25 14:48:22.110574",
         "merchant_1_Clothing_2",
         "India",
         "INR",
         "Contactless",
         "Mobile Wallet",
         "False",
         "device_2",
         null,
         "19.087366",
         "72.995814",
         "True"
        ],
        [
         "45",
         "1",
         "tx_1_46",
         "1231.61",
         "Utilities",
         "4900",
         "Bandra",
         "2025-02-25 13:52:22.110574",
         "merchant_1_Utilities_2",
         "India",
         "INR",
         "Contactless",
         "Tap to Pay",
         "False",
         null,
         null,
         "19.179754",
         "72.990953",
         "True"
        ],
        [
         "46",
         "1",
         "tx_1_47",
         "1065.45",
         "Clothing",
         "5651",
         "Thane",
         "2025-02-25 13:47:22.110574",
         "merchant_1_Clothing_1",
         "India",
         "INR",
         "CNP",
         "Online",
         "False",
         null,
         "192.168.250.145",
         null,
         null,
         "True"
        ],
        [
         "47",
         "1",
         "tx_1_48",
         "24459.19",
         "Electronics",
         "5732",
         "Thane",
         "2025-02-25 13:34:22.110574",
         "merchant_7",
         "India",
         "INR",
         "Contactless",
         "Tap to Pay",
         "False",
         null,
         null,
         "19.064911",
         "72.882889",
         "True"
        ],
        [
         "48",
         "1",
         "tx_1_49",
         "2386.94",
         "Clothing",
         "5651",
         "Vasai",
         "2025-02-25 13:32:22.110574",
         "merchant_1_Clothing_1",
         "India",
         "INR",
         "CNP",
         "Online",
         "False",
         null,
         "192.168.31.247",
         null,
         null,
         "True"
        ],
        [
         "49",
         "1",
         "tx_1_50",
         "1621.72",
         "Entertainment",
         "7832",
         "Vasai",
         "2025-02-25 13:18:22.110574",
         "merchant_1_Entertainment_2",
         "India",
         "INR",
         "CNP",
         "Online",
         "False",
         null,
         "192.168.47.199",
         null,
         null,
         "True"
        ]
       ],
       "shape": {
        "columns": 18,
        "rows": 1000
       }
      },
      "text/html": [
       "<div>\n",
       "<style scoped>\n",
       "    .dataframe tbody tr th:only-of-type {\n",
       "        vertical-align: middle;\n",
       "    }\n",
       "\n",
       "    .dataframe tbody tr th {\n",
       "        vertical-align: top;\n",
       "    }\n",
       "\n",
       "    .dataframe thead th {\n",
       "        text-align: right;\n",
       "    }\n",
       "</style>\n",
       "<table border=\"1\" class=\"dataframe\">\n",
       "  <thead>\n",
       "    <tr style=\"text-align: right;\">\n",
       "      <th></th>\n",
       "      <th>customer_id</th>\n",
       "      <th>transaction_id</th>\n",
       "      <th>amount</th>\n",
       "      <th>category</th>\n",
       "      <th>mcc</th>\n",
       "      <th>location</th>\n",
       "      <th>transaction_date</th>\n",
       "      <th>merchant_id</th>\n",
       "      <th>country</th>\n",
       "      <th>currency</th>\n",
       "      <th>payment_method</th>\n",
       "      <th>payment_sub_type</th>\n",
       "      <th>pin_verified</th>\n",
       "      <th>device_id</th>\n",
       "      <th>ip_address</th>\n",
       "      <th>latitude</th>\n",
       "      <th>longitude</th>\n",
       "      <th>alert_history</th>\n",
       "    </tr>\n",
       "  </thead>\n",
       "  <tbody>\n",
       "    <tr>\n",
       "      <th>0</th>\n",
       "      <td>1</td>\n",
       "      <td>tx_1_1</td>\n",
       "      <td>802.13</td>\n",
       "      <td>Restaurant</td>\n",
       "      <td>5812</td>\n",
       "      <td>Colaba</td>\n",
       "      <td>2025-06-17 14:18:22.110574</td>\n",
       "      <td>merchant_1_Restaurant_3</td>\n",
       "      <td>India</td>\n",
       "      <td>INR</td>\n",
       "      <td>Contactless</td>\n",
       "      <td>Tap to Pay</td>\n",
       "      <td>False</td>\n",
       "      <td>None</td>\n",
       "      <td>None</td>\n",
       "      <td>19.119863</td>\n",
       "      <td>72.847864</td>\n",
       "      <td>True</td>\n",
       "    </tr>\n",
       "    <tr>\n",
       "      <th>1</th>\n",
       "      <td>1</td>\n",
       "      <td>tx_1_2</td>\n",
       "      <td>17430.83</td>\n",
       "      <td>Electronics</td>\n",
       "      <td>5732</td>\n",
       "      <td>Thane</td>\n",
       "      <td>2025-06-17 14:13:22.110574</td>\n",
       "      <td>merchant_2</td>\n",
       "      <td>India</td>\n",
       "      <td>INR</td>\n",
       "      <td>CNP</td>\n",
       "      <td>Online</td>\n",
       "      <td>False</td>\n",
       "      <td>None</td>\n",
       "      <td>192.168.28.42</td>\n",
       "      <td>NaN</td>\n",
       "      <td>NaN</td>\n",
       "      <td>True</td>\n",
       "    </tr>\n",
       "    <tr>\n",
       "      <th>2</th>\n",
       "      <td>1</td>\n",
       "      <td>tx_1_3</td>\n",
       "      <td>1740.01</td>\n",
       "      <td>Grocery</td>\n",
       "      <td>5411</td>\n",
       "      <td>Dadar</td>\n",
       "      <td>2025-06-17 13:51:22.110574</td>\n",
       "      <td>merchant_1_Grocery_3</td>\n",
       "      <td>India</td>\n",
       "      <td>INR</td>\n",
       "      <td>Contactless</td>\n",
       "      <td>Tap to Pay</td>\n",
       "      <td>False</td>\n",
       "      <td>None</td>\n",
       "      <td>None</td>\n",
       "      <td>19.064828</td>\n",
       "      <td>72.903419</td>\n",
       "      <td>True</td>\n",
       "    </tr>\n",
       "    <tr>\n",
       "      <th>3</th>\n",
       "      <td>1</td>\n",
       "      <td>tx_1_4</td>\n",
       "      <td>1997.76</td>\n",
       "      <td>Fuel</td>\n",
       "      <td>5541</td>\n",
       "      <td>Bandra</td>\n",
       "      <td>2025-06-17 13:38:22.110574</td>\n",
       "      <td>merchant_1_Fuel_1</td>\n",
       "      <td>India</td>\n",
       "      <td>INR</td>\n",
       "      <td>Card Present</td>\n",
       "      <td>Mag Stripe</td>\n",
       "      <td>True</td>\n",
       "      <td>None</td>\n",
       "      <td>None</td>\n",
       "      <td>19.177863</td>\n",
       "      <td>72.893058</td>\n",
       "      <td>True</td>\n",
       "    </tr>\n",
       "    <tr>\n",
       "      <th>4</th>\n",
       "      <td>1</td>\n",
       "      <td>tx_1_5</td>\n",
       "      <td>48762.80</td>\n",
       "      <td>Education</td>\n",
       "      <td>8299</td>\n",
       "      <td>Kurla</td>\n",
       "      <td>2025-05-24 08:19:22.110574</td>\n",
       "      <td>merchant_8</td>\n",
       "      <td>India</td>\n",
       "      <td>INR</td>\n",
       "      <td>CNP</td>\n",
       "      <td>Online</td>\n",
       "      <td>False</td>\n",
       "      <td>None</td>\n",
       "      <td>192.168.127.74</td>\n",
       "      <td>NaN</td>\n",
       "      <td>NaN</td>\n",
       "      <td>True</td>\n",
       "    </tr>\n",
       "    <tr>\n",
       "      <th>...</th>\n",
       "      <td>...</td>\n",
       "      <td>...</td>\n",
       "      <td>...</td>\n",
       "      <td>...</td>\n",
       "      <td>...</td>\n",
       "      <td>...</td>\n",
       "      <td>...</td>\n",
       "      <td>...</td>\n",
       "      <td>...</td>\n",
       "      <td>...</td>\n",
       "      <td>...</td>\n",
       "      <td>...</td>\n",
       "      <td>...</td>\n",
       "      <td>...</td>\n",
       "      <td>...</td>\n",
       "      <td>...</td>\n",
       "      <td>...</td>\n",
       "      <td>...</td>\n",
       "    </tr>\n",
       "    <tr>\n",
       "      <th>995</th>\n",
       "      <td>1</td>\n",
       "      <td>tx_1_996</td>\n",
       "      <td>1085.68</td>\n",
       "      <td>Fuel</td>\n",
       "      <td>5541</td>\n",
       "      <td>Kurla</td>\n",
       "      <td>2018-04-28 10:10:22.110574</td>\n",
       "      <td>merchant_1_Fuel_1</td>\n",
       "      <td>India</td>\n",
       "      <td>INR</td>\n",
       "      <td>CNP</td>\n",
       "      <td>Online</td>\n",
       "      <td>False</td>\n",
       "      <td>None</td>\n",
       "      <td>192.168.3.9</td>\n",
       "      <td>NaN</td>\n",
       "      <td>NaN</td>\n",
       "      <td>True</td>\n",
       "    </tr>\n",
       "    <tr>\n",
       "      <th>996</th>\n",
       "      <td>1</td>\n",
       "      <td>tx_1_997</td>\n",
       "      <td>4239.74</td>\n",
       "      <td>Healthcare</td>\n",
       "      <td>8011</td>\n",
       "      <td>Powai</td>\n",
       "      <td>2018-04-28 09:49:22.110574</td>\n",
       "      <td>merchant_1_Healthcare_3</td>\n",
       "      <td>India</td>\n",
       "      <td>INR</td>\n",
       "      <td>Contactless</td>\n",
       "      <td>Mobile Wallet</td>\n",
       "      <td>False</td>\n",
       "      <td>device_2</td>\n",
       "      <td>None</td>\n",
       "      <td>19.160039</td>\n",
       "      <td>72.878770</td>\n",
       "      <td>True</td>\n",
       "    </tr>\n",
       "    <tr>\n",
       "      <th>997</th>\n",
       "      <td>1</td>\n",
       "      <td>tx_1_998</td>\n",
       "      <td>2422.99</td>\n",
       "      <td>Clothing</td>\n",
       "      <td>5651</td>\n",
       "      <td>Thane</td>\n",
       "      <td>2018-04-28 03:35:22.110574</td>\n",
       "      <td>merchant_12</td>\n",
       "      <td>India</td>\n",
       "      <td>INR</td>\n",
       "      <td>Contactless</td>\n",
       "      <td>Tap to Pay</td>\n",
       "      <td>False</td>\n",
       "      <td>None</td>\n",
       "      <td>None</td>\n",
       "      <td>19.009021</td>\n",
       "      <td>72.886611</td>\n",
       "      <td>True</td>\n",
       "    </tr>\n",
       "    <tr>\n",
       "      <th>998</th>\n",
       "      <td>1</td>\n",
       "      <td>tx_1_999</td>\n",
       "      <td>4034.39</td>\n",
       "      <td>Clothing</td>\n",
       "      <td>5651</td>\n",
       "      <td>Navi Mumbai</td>\n",
       "      <td>2018-04-28 02:47:22.110574</td>\n",
       "      <td>merchant_1_Clothing_2</td>\n",
       "      <td>India</td>\n",
       "      <td>INR</td>\n",
       "      <td>Card Present</td>\n",
       "      <td>EMV Chip</td>\n",
       "      <td>False</td>\n",
       "      <td>None</td>\n",
       "      <td>None</td>\n",
       "      <td>19.021711</td>\n",
       "      <td>72.957052</td>\n",
       "      <td>True</td>\n",
       "    </tr>\n",
       "    <tr>\n",
       "      <th>999</th>\n",
       "      <td>1</td>\n",
       "      <td>tx_1_1000</td>\n",
       "      <td>1748.24</td>\n",
       "      <td>Fuel</td>\n",
       "      <td>5541</td>\n",
       "      <td>Powai</td>\n",
       "      <td>2018-04-02 17:32:22.110574</td>\n",
       "      <td>merchant_1_Fuel_3</td>\n",
       "      <td>India</td>\n",
       "      <td>INR</td>\n",
       "      <td>Contactless</td>\n",
       "      <td>Tap to Pay</td>\n",
       "      <td>False</td>\n",
       "      <td>None</td>\n",
       "      <td>None</td>\n",
       "      <td>18.982294</td>\n",
       "      <td>72.965174</td>\n",
       "      <td>True</td>\n",
       "    </tr>\n",
       "  </tbody>\n",
       "</table>\n",
       "<p>1000 rows × 18 columns</p>\n",
       "</div>"
      ],
      "text/plain": [
       "    customer_id transaction_id    amount     category   mcc     location  \\\n",
       "0             1         tx_1_1    802.13   Restaurant  5812       Colaba   \n",
       "1             1         tx_1_2  17430.83  Electronics  5732        Thane   \n",
       "2             1         tx_1_3   1740.01      Grocery  5411        Dadar   \n",
       "3             1         tx_1_4   1997.76         Fuel  5541       Bandra   \n",
       "4             1         tx_1_5  48762.80    Education  8299        Kurla   \n",
       "..          ...            ...       ...          ...   ...          ...   \n",
       "995           1       tx_1_996   1085.68         Fuel  5541        Kurla   \n",
       "996           1       tx_1_997   4239.74   Healthcare  8011        Powai   \n",
       "997           1       tx_1_998   2422.99     Clothing  5651        Thane   \n",
       "998           1       tx_1_999   4034.39     Clothing  5651  Navi Mumbai   \n",
       "999           1      tx_1_1000   1748.24         Fuel  5541        Powai   \n",
       "\n",
       "              transaction_date              merchant_id country currency  \\\n",
       "0   2025-06-17 14:18:22.110574  merchant_1_Restaurant_3   India      INR   \n",
       "1   2025-06-17 14:13:22.110574               merchant_2   India      INR   \n",
       "2   2025-06-17 13:51:22.110574     merchant_1_Grocery_3   India      INR   \n",
       "3   2025-06-17 13:38:22.110574        merchant_1_Fuel_1   India      INR   \n",
       "4   2025-05-24 08:19:22.110574               merchant_8   India      INR   \n",
       "..                         ...                      ...     ...      ...   \n",
       "995 2018-04-28 10:10:22.110574        merchant_1_Fuel_1   India      INR   \n",
       "996 2018-04-28 09:49:22.110574  merchant_1_Healthcare_3   India      INR   \n",
       "997 2018-04-28 03:35:22.110574              merchant_12   India      INR   \n",
       "998 2018-04-28 02:47:22.110574    merchant_1_Clothing_2   India      INR   \n",
       "999 2018-04-02 17:32:22.110574        merchant_1_Fuel_3   India      INR   \n",
       "\n",
       "    payment_method payment_sub_type  pin_verified device_id      ip_address  \\\n",
       "0      Contactless       Tap to Pay         False      None            None   \n",
       "1              CNP           Online         False      None   192.168.28.42   \n",
       "2      Contactless       Tap to Pay         False      None            None   \n",
       "3     Card Present       Mag Stripe          True      None            None   \n",
       "4              CNP           Online         False      None  192.168.127.74   \n",
       "..             ...              ...           ...       ...             ...   \n",
       "995            CNP           Online         False      None     192.168.3.9   \n",
       "996    Contactless    Mobile Wallet         False  device_2            None   \n",
       "997    Contactless       Tap to Pay         False      None            None   \n",
       "998   Card Present         EMV Chip         False      None            None   \n",
       "999    Contactless       Tap to Pay         False      None            None   \n",
       "\n",
       "      latitude  longitude  alert_history  \n",
       "0    19.119863  72.847864           True  \n",
       "1          NaN        NaN           True  \n",
       "2    19.064828  72.903419           True  \n",
       "3    19.177863  72.893058           True  \n",
       "4          NaN        NaN           True  \n",
       "..         ...        ...            ...  \n",
       "995        NaN        NaN           True  \n",
       "996  19.160039  72.878770           True  \n",
       "997  19.009021  72.886611           True  \n",
       "998  19.021711  72.957052           True  \n",
       "999  18.982294  72.965174           True  \n",
       "\n",
       "[1000 rows x 18 columns]"
      ]
     },
     "execution_count": 2,
     "metadata": {},
     "output_type": "execute_result"
    }
   ],
   "source": [
    "data_generator = SampleTransactionsDataGenerator()\n",
    "transaction_data = data_generator.generate_data(num_users=1,\n",
    "                                                transactions_per_user=1000)\n",
    "transaction_data"
   ]
  },
  {
   "cell_type": "code",
   "execution_count": 3,
   "metadata": {},
   "outputs": [],
   "source": [
    "transaction_data.to_csv('sample_transactions.csv', index=False)"
   ]
  },
  {
   "cell_type": "code",
   "execution_count": 4,
   "metadata": {},
   "outputs": [
    {
     "data": {
      "text/plain": [
       "{'customer_id': '1',\n",
       " 'transaction_id': 'tx_1_1',\n",
       " 'amount': 100.0,\n",
       " 'category': 'Utilities',\n",
       " 'mcc': '4900',\n",
       " 'location': 'Dadar',\n",
       " 'transaction_date': datetime.datetime(2025, 6, 17, 14, 31, 22, 254227),\n",
       " 'merchant_id': 'merchant_1_Utilities_1',\n",
       " 'country': 'India',\n",
       " 'currency': 'INR',\n",
       " 'payment_method': 'CNP',\n",
       " 'payment_sub_type': 'Online',\n",
       " 'pin_verified': False,\n",
       " 'device_id': None,\n",
       " 'ip_address': '192.168.146.46',\n",
       " 'latitude': None,\n",
       " 'longitude': None,\n",
       " 'alert_history': True}"
      ]
     },
     "execution_count": 4,
     "metadata": {},
     "output_type": "execute_result"
    }
   ],
   "source": [
    "from datetime import datetime\n",
    "data_generator._generate_transaction(customer_id=1,\n",
    "                                    transaction_id=1,\n",
    "                                    transaction_amount=100.0,\n",
    "                                    transaction_date=datetime.now())"
   ]
  },
  {
   "cell_type": "markdown",
   "metadata": {},
   "source": [
    "---"
   ]
  },
  {
   "cell_type": "markdown",
   "metadata": {},
   "source": [
    "## Tool Registry"
   ]
  },
  {
   "cell_type": "code",
   "execution_count": 5,
   "metadata": {},
   "outputs": [],
   "source": [
    "from src.core.tools_registry import ToolRegistry"
   ]
  },
  {
   "cell_type": "code",
   "execution_count": 6,
   "metadata": {},
   "outputs": [],
   "source": [
    "tool_registry = ToolRegistry(transaction_data)"
   ]
  },
  {
   "cell_type": "code",
   "execution_count": 7,
   "metadata": {},
   "outputs": [
    {
     "data": {
      "text/plain": [
       "{'Previous Historical Transactions Analysis Tool': <src.tools.transactions.previous_history.PreviousHistoryTransactions at 0x1ada2b6f980>,\n",
       " 'Spending Patterns Analysis Tool': <src.tools.transactions.patterns.PatternsTransactions at 0x1ada41ba1b0>,\n",
       " 'Velocity Analysis Tool': <src.tools.transactions.velocity.VelocityTransactions at 0x1ada41ba1e0>,\n",
       " 'Amount Analysis Tool': <src.tools.transactions.amount.AmountTransactions at 0x1ad83895970>,\n",
       " 'Average Ticket Size Analysis Tool': <src.tools.transactions.average_ticket_size.AverageTicketSizeTransactions at 0x1ad83696180>,\n",
       " 'Risky MCC Analysis Tool': <src.tools.transactions.risky_mcc.RiskyMCCTransactions at 0x1ada3e1dd00>,\n",
       " 'First Time Alert Analysis Tool': <src.tools.transactions.first_time_alert.FirstTimeAlertTransactions at 0x1ada41ba4b0>,\n",
       " 'Risky Country Currency Analysis Tool': <src.tools.transactions.risky_country_currency.RiskyCountryCurrencyTransactions at 0x1ada41ba510>,\n",
       " 'Card Present Analysis Tool': <src.tools.transactions.card_present.CardPresentTransactions at 0x1ada41ba570>,\n",
       " 'Contactless Payment Analysis Tool': <src.tools.transactions.contactless.ContactlessTransactions at 0x1ada41ba5d0>,\n",
       " 'Token NFC Payment Analysis Tool': <src.tools.transactions.token_nfc.TokenNFCTransactions at 0x1ada41ba3c0>,\n",
       " 'Pin Verified Analysis Tool': <src.tools.transactions.pin_verified.PinVerifiedTransactions at 0x1ada41ba420>,\n",
       " 'Mag Stripe Payment Analysis Tool': <src.tools.transactions.mag_stripe.MagStripeTransactions at 0x1ada1e4c9e0>,\n",
       " 'Card Not Present Analysis Tool': <src.tools.transactions.card_not_present.CNPTransactions at 0x1ada41ba2d0>,\n",
       " 'Geo Location Travel Analysis Tool': <src.tools.transactions.geo_location.GeoLocationTransactions at 0x1ada41ba330>}"
      ]
     },
     "execution_count": 7,
     "metadata": {},
     "output_type": "execute_result"
    }
   ],
   "source": [
    "tool_registry._tools"
   ]
  },
  {
   "cell_type": "markdown",
   "metadata": {},
   "source": [
    "----"
   ]
  },
  {
   "cell_type": "markdown",
   "metadata": {},
   "source": [
    "## Transactions - Previous History"
   ]
  },
  {
   "cell_type": "code",
   "execution_count": 8,
   "metadata": {},
   "outputs": [],
   "source": [
    "from src.tools.transactions.previous_history import PreviousHistoryTransactions"
   ]
  },
  {
   "cell_type": "code",
   "execution_count": 9,
   "metadata": {},
   "outputs": [],
   "source": [
    "tool = PreviousHistoryTransactions(transaction_data)"
   ]
  },
  {
   "cell_type": "code",
   "execution_count": 10,
   "metadata": {},
   "outputs": [
    {
     "data": {
      "text/plain": [
       "ToolResult(tool_name='Previous Historical Transactions Analysis Tool', success=True, result={'check_type': 'previous_history_check', 'customer_id': '1', 'merchant_id': 'merchant_1_Electronics_1', 'relationship_status': 'ESTABLISHED', 'familiarity_score': 0.726, 'metrics': {'status': 'ESTABLISHED', 'transaction_count': 18, 'interaction_span_days': 2206, 'frequency_rate': 0.24, 'recency_days': 333}, 'risk_assessment': 'LOW', 'risk_score': 0.274}, error=None)"
      ]
     },
     "execution_count": 10,
     "metadata": {},
     "output_type": "execute_result"
    }
   ],
   "source": [
    "tool_result = await tool.execute(customer_id=\"1\",\n",
    "             merchant_id=\"merchant_1_Electronics_1\")\n",
    "tool_result"
   ]
  },
  {
   "cell_type": "markdown",
   "metadata": {},
   "source": [
    "---"
   ]
  },
  {
   "cell_type": "markdown",
   "metadata": {},
   "source": [
    "## Transactions - Patterns"
   ]
  },
  {
   "cell_type": "code",
   "execution_count": 11,
   "metadata": {},
   "outputs": [],
   "source": [
    "from src.tools.transactions.patterns import PatternsTransactions"
   ]
  },
  {
   "cell_type": "code",
   "execution_count": 12,
   "metadata": {},
   "outputs": [],
   "source": [
    "tool = PatternsTransactions(transaction_data)"
   ]
  },
  {
   "cell_type": "code",
   "execution_count": 13,
   "metadata": {},
   "outputs": [
    {
     "data": {
      "text/plain": [
       "{'check_type': 'spending_patterns_check',\n",
       " 'customer_id': '1',\n",
       " 'merchant_category': 'Education',\n",
       " 'pattern_consistency': {'consistency_level': 'LOW',\n",
       "  'consistency_score': 0.218,\n",
       "  'pattern_strength': 0.218,\n",
       "  'diversity_factor': 1.0,\n",
       "  'established_categories': 5},\n",
       " 'current_transaction_match': {'overall_match_score': 0.417,\n",
       "  'match_level': 'HIGH',\n",
       "  'category_match': {'category': 'Education',\n",
       "   'probability': 0.167,\n",
       "   'is_common': True},\n",
       "  'time_match': {'time_slot': 'afternoon',\n",
       "   'probability': 0.667,\n",
       "   'is_typical': True},\n",
       "  'day_match': {'day': 'tuesday', 'probability': 0.667, 'is_typical': True}},\n",
       " 'risk_assessment': 'HIGH',\n",
       " 'risk_score': 0.702,\n",
       " 'pattern_deviation_factors': ['Weak spending pattern establishment']}"
      ]
     },
     "execution_count": 13,
     "metadata": {},
     "output_type": "execute_result"
    }
   ],
   "source": [
    "from datetime import datetime\n",
    "tool_result = await tool.execute(customer_id=\"1\",\n",
    "                                 merchant_category=\"Education\",\n",
    "                                 transaction_timestamp=datetime.now(),\n",
    "                                 lookback_days=30)\n",
    "tool_result.result"
   ]
  },
  {
   "cell_type": "markdown",
   "metadata": {},
   "source": [
    "---"
   ]
  },
  {
   "cell_type": "markdown",
   "metadata": {},
   "source": [
    "## Transactions - Velocity"
   ]
  },
  {
   "cell_type": "code",
   "execution_count": 14,
   "metadata": {},
   "outputs": [],
   "source": [
    "from src.tools.transactions.velocity import VelocityTransactions"
   ]
  },
  {
   "cell_type": "code",
   "execution_count": 15,
   "metadata": {},
   "outputs": [],
   "source": [
    "# High Velocity Data\n",
    "transaction_data = data_generator.generate_velocity_data(num_users=1,\n",
    "                                                    transactions_per_user=1000)"
   ]
  },
  {
   "cell_type": "code",
   "execution_count": 16,
   "metadata": {},
   "outputs": [],
   "source": [
    "import pandas as pd\n",
    "transaction_data = pd.read_csv('test.csv')"
   ]
  },
  {
   "cell_type": "code",
   "execution_count": 17,
   "metadata": {},
   "outputs": [
    {
     "data": {
      "application/vnd.microsoft.datawrangler.viewer.v0+json": {
       "columns": [
        {
         "name": "index",
         "rawType": "int64",
         "type": "integer"
        },
        {
         "name": "customer_id",
         "rawType": "object",
         "type": "string"
        },
        {
         "name": "transaction_id",
         "rawType": "object",
         "type": "string"
        },
        {
         "name": "amount",
         "rawType": "float64",
         "type": "float"
        },
        {
         "name": "category",
         "rawType": "object",
         "type": "string"
        },
        {
         "name": "mcc",
         "rawType": "int64",
         "type": "integer"
        },
        {
         "name": "location",
         "rawType": "object",
         "type": "string"
        },
        {
         "name": "transaction_date",
         "rawType": "object",
         "type": "string"
        },
        {
         "name": "merchant_id",
         "rawType": "object",
         "type": "string"
        },
        {
         "name": "country",
         "rawType": "object",
         "type": "string"
        },
        {
         "name": "currency",
         "rawType": "object",
         "type": "string"
        },
        {
         "name": "payment_method",
         "rawType": "object",
         "type": "string"
        },
        {
         "name": "payment_sub_type",
         "rawType": "object",
         "type": "string"
        },
        {
         "name": "pin_verified",
         "rawType": "bool",
         "type": "boolean"
        },
        {
         "name": "device_id",
         "rawType": "object",
         "type": "unknown"
        },
        {
         "name": "ip_address",
         "rawType": "object",
         "type": "unknown"
        },
        {
         "name": "latitude",
         "rawType": "float64",
         "type": "float"
        },
        {
         "name": "longitude",
         "rawType": "float64",
         "type": "float"
        },
        {
         "name": "alert_history",
         "rawType": "bool",
         "type": "boolean"
        }
       ],
       "ref": "b5c74cd0-1eab-4a77-9f44-2519f4fe39d6",
       "rows": [
        [
         "0",
         "cust_1",
         "tx_1_1",
         "1198.74",
         "Grocery",
         "5411",
         "Dadar",
         "2025-06-17 12:43:00",
         "merchant_1_Grocery_1",
         "India",
         "INR",
         "CNP",
         "Online",
         "False",
         null,
         null,
         "19.137221",
         "72.927182",
         "True"
        ],
        [
         "1",
         "cust_1",
         "tx_1_2",
         "1198.74",
         "Grocery",
         "5412",
         "Dadar",
         "2025-06-17 12:42:55",
         "merchant_1_Grocery_1",
         "India",
         "INR",
         "CNP",
         "Online",
         "False",
         null,
         null,
         "18.939719",
         "72.811114",
         "True"
        ],
        [
         "2",
         "cust_1",
         "tx_1_3",
         "1198.74",
         "Grocery",
         "5413",
         "Dadar",
         "2025-06-17 12:42:50",
         "merchant_1_Grocery_1",
         "India",
         "INR",
         "CNP",
         "Online",
         "False",
         null,
         "192.168.236.121",
         null,
         null,
         "True"
        ],
        [
         "3",
         "cust_1",
         "tx_1_4",
         "1198.74",
         "Grocery",
         "5414",
         "Dadar",
         "2025-06-17 12:42:45",
         "merchant_1_Grocery_1",
         "India",
         "INR",
         "CNP",
         "Online",
         "False",
         null,
         "192.168.197.64",
         null,
         null,
         "True"
        ],
        [
         "4",
         "cust_1",
         "tx_1_5",
         "1198.74",
         "Grocery",
         "5411",
         "Dadar",
         "2025-06-17 12:42:40",
         "merchant_1_Grocery_1",
         "India",
         "INR",
         "CNP",
         "Online",
         "False",
         null,
         "192.168.215.221",
         null,
         null,
         "True"
        ],
        [
         "5",
         "cust_1",
         "tx_1_6",
         "2994.55",
         "Restaurant",
         "5812",
         "Powai",
         "2025-06-17 12:42:32",
         "merchant_1_Restaurant_2",
         "India",
         "INR",
         "Contactless",
         "Tap to Pay",
         "False",
         null,
         null,
         "19.156429",
         "72.965239",
         "True"
        ],
        [
         "6",
         "cust_1",
         "tx_1_7",
         "1213.36",
         "Entertainment",
         "7832",
         "Colaba",
         "2025-06-17 12:41:32",
         "merchant_3",
         "India",
         "INR",
         "Card Present",
         "EMV Chip",
         "False",
         null,
         null,
         "19.137221",
         "72.927182",
         "True"
        ],
        [
         "7",
         "cust_1",
         "tx_1_8",
         "2428.82",
         "Restaurant",
         "5812",
         "Vasai",
         "2025-06-17 12:38:32",
         "merchant_12",
         "India",
         "INR",
         "Card Present",
         "Token NFC",
         "True",
         "device_1",
         null,
         "18.939719",
         "72.811114",
         "True"
        ],
        [
         "8",
         "cust_1",
         "tx_1_9",
         "1975.97",
         "Grocery",
         "5411",
         "Kurla",
         "2025-06-17 12:37:32",
         "merchant_15",
         "India",
         "INR",
         "CNP",
         "Online",
         "False",
         null,
         "192.168.236.121",
         null,
         null,
         "True"
        ],
        [
         "9",
         "cust_1",
         "tx_1_10",
         "3738.09",
         "Utilities",
         "4900",
         "Dadar",
         "2025-06-17 12:36:32",
         "merchant_12",
         "India",
         "INR",
         "CNP",
         "Online",
         "False",
         null,
         "192.168.197.64",
         null,
         null,
         "True"
        ],
        [
         "10",
         "cust_1",
         "tx_1_11",
         "3854.26",
         "Healthcare",
         "8011",
         "Dadar",
         "2025-06-17 12:32:32",
         "merchant_2",
         "India",
         "INR",
         "CNP",
         "Online",
         "False",
         null,
         "192.168.129.60",
         null,
         null,
         "True"
        ],
        [
         "11",
         "cust_1",
         "tx_1_12",
         "598.64",
         "Grocery",
         "5411",
         "Kurla",
         "2025-06-17 12:31:32",
         "merchant_1_Grocery_2",
         "India",
         "INR",
         "CNP",
         "Online",
         "False",
         null,
         "192.168.71.217",
         null,
         null,
         "True"
        ],
        [
         "12",
         "cust_1",
         "tx_1_13",
         "8940.52",
         "Healthcare",
         "8011",
         "Kurla",
         "2025-06-17 12:30:32",
         "merchant_1_Healthcare_1",
         "India",
         "INR",
         "CNP",
         "Online",
         "False",
         null,
         "192.168.164.128",
         null,
         null,
         "True"
        ],
        [
         "13",
         "cust_1",
         "tx_1_14",
         "35308.2",
         "Electronics",
         "5732",
         "Navi Mumbai",
         "2025-06-17 12:27:32",
         "merchant_1_Electronics_1",
         "India",
         "INR",
         "Card Present",
         "Mag Stripe",
         "False",
         null,
         null,
         "18.914898",
         "72.942707",
         "True"
        ]
       ],
       "shape": {
        "columns": 18,
        "rows": 14
       }
      },
      "text/html": [
       "<div>\n",
       "<style scoped>\n",
       "    .dataframe tbody tr th:only-of-type {\n",
       "        vertical-align: middle;\n",
       "    }\n",
       "\n",
       "    .dataframe tbody tr th {\n",
       "        vertical-align: top;\n",
       "    }\n",
       "\n",
       "    .dataframe thead th {\n",
       "        text-align: right;\n",
       "    }\n",
       "</style>\n",
       "<table border=\"1\" class=\"dataframe\">\n",
       "  <thead>\n",
       "    <tr style=\"text-align: right;\">\n",
       "      <th></th>\n",
       "      <th>customer_id</th>\n",
       "      <th>transaction_id</th>\n",
       "      <th>amount</th>\n",
       "      <th>category</th>\n",
       "      <th>mcc</th>\n",
       "      <th>location</th>\n",
       "      <th>transaction_date</th>\n",
       "      <th>merchant_id</th>\n",
       "      <th>country</th>\n",
       "      <th>currency</th>\n",
       "      <th>payment_method</th>\n",
       "      <th>payment_sub_type</th>\n",
       "      <th>pin_verified</th>\n",
       "      <th>device_id</th>\n",
       "      <th>ip_address</th>\n",
       "      <th>latitude</th>\n",
       "      <th>longitude</th>\n",
       "      <th>alert_history</th>\n",
       "    </tr>\n",
       "  </thead>\n",
       "  <tbody>\n",
       "    <tr>\n",
       "      <th>0</th>\n",
       "      <td>cust_1</td>\n",
       "      <td>tx_1_1</td>\n",
       "      <td>1198.74</td>\n",
       "      <td>Grocery</td>\n",
       "      <td>5411</td>\n",
       "      <td>Dadar</td>\n",
       "      <td>2025-06-17 12:43:00</td>\n",
       "      <td>merchant_1_Grocery_1</td>\n",
       "      <td>India</td>\n",
       "      <td>INR</td>\n",
       "      <td>CNP</td>\n",
       "      <td>Online</td>\n",
       "      <td>False</td>\n",
       "      <td>NaN</td>\n",
       "      <td>NaN</td>\n",
       "      <td>19.137221</td>\n",
       "      <td>72.927182</td>\n",
       "      <td>True</td>\n",
       "    </tr>\n",
       "    <tr>\n",
       "      <th>1</th>\n",
       "      <td>cust_1</td>\n",
       "      <td>tx_1_2</td>\n",
       "      <td>1198.74</td>\n",
       "      <td>Grocery</td>\n",
       "      <td>5412</td>\n",
       "      <td>Dadar</td>\n",
       "      <td>2025-06-17 12:42:55</td>\n",
       "      <td>merchant_1_Grocery_1</td>\n",
       "      <td>India</td>\n",
       "      <td>INR</td>\n",
       "      <td>CNP</td>\n",
       "      <td>Online</td>\n",
       "      <td>False</td>\n",
       "      <td>NaN</td>\n",
       "      <td>NaN</td>\n",
       "      <td>18.939719</td>\n",
       "      <td>72.811114</td>\n",
       "      <td>True</td>\n",
       "    </tr>\n",
       "    <tr>\n",
       "      <th>2</th>\n",
       "      <td>cust_1</td>\n",
       "      <td>tx_1_3</td>\n",
       "      <td>1198.74</td>\n",
       "      <td>Grocery</td>\n",
       "      <td>5413</td>\n",
       "      <td>Dadar</td>\n",
       "      <td>2025-06-17 12:42:50</td>\n",
       "      <td>merchant_1_Grocery_1</td>\n",
       "      <td>India</td>\n",
       "      <td>INR</td>\n",
       "      <td>CNP</td>\n",
       "      <td>Online</td>\n",
       "      <td>False</td>\n",
       "      <td>NaN</td>\n",
       "      <td>192.168.236.121</td>\n",
       "      <td>NaN</td>\n",
       "      <td>NaN</td>\n",
       "      <td>True</td>\n",
       "    </tr>\n",
       "    <tr>\n",
       "      <th>3</th>\n",
       "      <td>cust_1</td>\n",
       "      <td>tx_1_4</td>\n",
       "      <td>1198.74</td>\n",
       "      <td>Grocery</td>\n",
       "      <td>5414</td>\n",
       "      <td>Dadar</td>\n",
       "      <td>2025-06-17 12:42:45</td>\n",
       "      <td>merchant_1_Grocery_1</td>\n",
       "      <td>India</td>\n",
       "      <td>INR</td>\n",
       "      <td>CNP</td>\n",
       "      <td>Online</td>\n",
       "      <td>False</td>\n",
       "      <td>NaN</td>\n",
       "      <td>192.168.197.64</td>\n",
       "      <td>NaN</td>\n",
       "      <td>NaN</td>\n",
       "      <td>True</td>\n",
       "    </tr>\n",
       "    <tr>\n",
       "      <th>4</th>\n",
       "      <td>cust_1</td>\n",
       "      <td>tx_1_5</td>\n",
       "      <td>1198.74</td>\n",
       "      <td>Grocery</td>\n",
       "      <td>5411</td>\n",
       "      <td>Dadar</td>\n",
       "      <td>2025-06-17 12:42:40</td>\n",
       "      <td>merchant_1_Grocery_1</td>\n",
       "      <td>India</td>\n",
       "      <td>INR</td>\n",
       "      <td>CNP</td>\n",
       "      <td>Online</td>\n",
       "      <td>False</td>\n",
       "      <td>NaN</td>\n",
       "      <td>192.168.215.221</td>\n",
       "      <td>NaN</td>\n",
       "      <td>NaN</td>\n",
       "      <td>True</td>\n",
       "    </tr>\n",
       "    <tr>\n",
       "      <th>5</th>\n",
       "      <td>cust_1</td>\n",
       "      <td>tx_1_6</td>\n",
       "      <td>2994.55</td>\n",
       "      <td>Restaurant</td>\n",
       "      <td>5812</td>\n",
       "      <td>Powai</td>\n",
       "      <td>2025-06-17 12:42:32</td>\n",
       "      <td>merchant_1_Restaurant_2</td>\n",
       "      <td>India</td>\n",
       "      <td>INR</td>\n",
       "      <td>Contactless</td>\n",
       "      <td>Tap to Pay</td>\n",
       "      <td>False</td>\n",
       "      <td>NaN</td>\n",
       "      <td>NaN</td>\n",
       "      <td>19.156429</td>\n",
       "      <td>72.965239</td>\n",
       "      <td>True</td>\n",
       "    </tr>\n",
       "    <tr>\n",
       "      <th>6</th>\n",
       "      <td>cust_1</td>\n",
       "      <td>tx_1_7</td>\n",
       "      <td>1213.36</td>\n",
       "      <td>Entertainment</td>\n",
       "      <td>7832</td>\n",
       "      <td>Colaba</td>\n",
       "      <td>2025-06-17 12:41:32</td>\n",
       "      <td>merchant_3</td>\n",
       "      <td>India</td>\n",
       "      <td>INR</td>\n",
       "      <td>Card Present</td>\n",
       "      <td>EMV Chip</td>\n",
       "      <td>False</td>\n",
       "      <td>NaN</td>\n",
       "      <td>NaN</td>\n",
       "      <td>19.137221</td>\n",
       "      <td>72.927182</td>\n",
       "      <td>True</td>\n",
       "    </tr>\n",
       "    <tr>\n",
       "      <th>7</th>\n",
       "      <td>cust_1</td>\n",
       "      <td>tx_1_8</td>\n",
       "      <td>2428.82</td>\n",
       "      <td>Restaurant</td>\n",
       "      <td>5812</td>\n",
       "      <td>Vasai</td>\n",
       "      <td>2025-06-17 12:38:32</td>\n",
       "      <td>merchant_12</td>\n",
       "      <td>India</td>\n",
       "      <td>INR</td>\n",
       "      <td>Card Present</td>\n",
       "      <td>Token NFC</td>\n",
       "      <td>True</td>\n",
       "      <td>device_1</td>\n",
       "      <td>NaN</td>\n",
       "      <td>18.939719</td>\n",
       "      <td>72.811114</td>\n",
       "      <td>True</td>\n",
       "    </tr>\n",
       "    <tr>\n",
       "      <th>8</th>\n",
       "      <td>cust_1</td>\n",
       "      <td>tx_1_9</td>\n",
       "      <td>1975.97</td>\n",
       "      <td>Grocery</td>\n",
       "      <td>5411</td>\n",
       "      <td>Kurla</td>\n",
       "      <td>2025-06-17 12:37:32</td>\n",
       "      <td>merchant_15</td>\n",
       "      <td>India</td>\n",
       "      <td>INR</td>\n",
       "      <td>CNP</td>\n",
       "      <td>Online</td>\n",
       "      <td>False</td>\n",
       "      <td>NaN</td>\n",
       "      <td>192.168.236.121</td>\n",
       "      <td>NaN</td>\n",
       "      <td>NaN</td>\n",
       "      <td>True</td>\n",
       "    </tr>\n",
       "    <tr>\n",
       "      <th>9</th>\n",
       "      <td>cust_1</td>\n",
       "      <td>tx_1_10</td>\n",
       "      <td>3738.09</td>\n",
       "      <td>Utilities</td>\n",
       "      <td>4900</td>\n",
       "      <td>Dadar</td>\n",
       "      <td>2025-06-17 12:36:32</td>\n",
       "      <td>merchant_12</td>\n",
       "      <td>India</td>\n",
       "      <td>INR</td>\n",
       "      <td>CNP</td>\n",
       "      <td>Online</td>\n",
       "      <td>False</td>\n",
       "      <td>NaN</td>\n",
       "      <td>192.168.197.64</td>\n",
       "      <td>NaN</td>\n",
       "      <td>NaN</td>\n",
       "      <td>True</td>\n",
       "    </tr>\n",
       "    <tr>\n",
       "      <th>10</th>\n",
       "      <td>cust_1</td>\n",
       "      <td>tx_1_11</td>\n",
       "      <td>3854.26</td>\n",
       "      <td>Healthcare</td>\n",
       "      <td>8011</td>\n",
       "      <td>Dadar</td>\n",
       "      <td>2025-06-17 12:32:32</td>\n",
       "      <td>merchant_2</td>\n",
       "      <td>India</td>\n",
       "      <td>INR</td>\n",
       "      <td>CNP</td>\n",
       "      <td>Online</td>\n",
       "      <td>False</td>\n",
       "      <td>NaN</td>\n",
       "      <td>192.168.129.60</td>\n",
       "      <td>NaN</td>\n",
       "      <td>NaN</td>\n",
       "      <td>True</td>\n",
       "    </tr>\n",
       "    <tr>\n",
       "      <th>11</th>\n",
       "      <td>cust_1</td>\n",
       "      <td>tx_1_12</td>\n",
       "      <td>598.64</td>\n",
       "      <td>Grocery</td>\n",
       "      <td>5411</td>\n",
       "      <td>Kurla</td>\n",
       "      <td>2025-06-17 12:31:32</td>\n",
       "      <td>merchant_1_Grocery_2</td>\n",
       "      <td>India</td>\n",
       "      <td>INR</td>\n",
       "      <td>CNP</td>\n",
       "      <td>Online</td>\n",
       "      <td>False</td>\n",
       "      <td>NaN</td>\n",
       "      <td>192.168.71.217</td>\n",
       "      <td>NaN</td>\n",
       "      <td>NaN</td>\n",
       "      <td>True</td>\n",
       "    </tr>\n",
       "    <tr>\n",
       "      <th>12</th>\n",
       "      <td>cust_1</td>\n",
       "      <td>tx_1_13</td>\n",
       "      <td>8940.52</td>\n",
       "      <td>Healthcare</td>\n",
       "      <td>8011</td>\n",
       "      <td>Kurla</td>\n",
       "      <td>2025-06-17 12:30:32</td>\n",
       "      <td>merchant_1_Healthcare_1</td>\n",
       "      <td>India</td>\n",
       "      <td>INR</td>\n",
       "      <td>CNP</td>\n",
       "      <td>Online</td>\n",
       "      <td>False</td>\n",
       "      <td>NaN</td>\n",
       "      <td>192.168.164.128</td>\n",
       "      <td>NaN</td>\n",
       "      <td>NaN</td>\n",
       "      <td>True</td>\n",
       "    </tr>\n",
       "    <tr>\n",
       "      <th>13</th>\n",
       "      <td>cust_1</td>\n",
       "      <td>tx_1_14</td>\n",
       "      <td>35308.20</td>\n",
       "      <td>Electronics</td>\n",
       "      <td>5732</td>\n",
       "      <td>Navi Mumbai</td>\n",
       "      <td>2025-06-17 12:27:32</td>\n",
       "      <td>merchant_1_Electronics_1</td>\n",
       "      <td>India</td>\n",
       "      <td>INR</td>\n",
       "      <td>Card Present</td>\n",
       "      <td>Mag Stripe</td>\n",
       "      <td>False</td>\n",
       "      <td>NaN</td>\n",
       "      <td>NaN</td>\n",
       "      <td>18.914898</td>\n",
       "      <td>72.942707</td>\n",
       "      <td>True</td>\n",
       "    </tr>\n",
       "  </tbody>\n",
       "</table>\n",
       "</div>"
      ],
      "text/plain": [
       "   customer_id transaction_id    amount       category   mcc     location  \\\n",
       "0       cust_1         tx_1_1   1198.74        Grocery  5411        Dadar   \n",
       "1       cust_1         tx_1_2   1198.74        Grocery  5412        Dadar   \n",
       "2       cust_1         tx_1_3   1198.74        Grocery  5413        Dadar   \n",
       "3       cust_1         tx_1_4   1198.74        Grocery  5414        Dadar   \n",
       "4       cust_1         tx_1_5   1198.74        Grocery  5411        Dadar   \n",
       "5       cust_1         tx_1_6   2994.55     Restaurant  5812        Powai   \n",
       "6       cust_1         tx_1_7   1213.36  Entertainment  7832       Colaba   \n",
       "7       cust_1         tx_1_8   2428.82     Restaurant  5812        Vasai   \n",
       "8       cust_1         tx_1_9   1975.97        Grocery  5411        Kurla   \n",
       "9       cust_1        tx_1_10   3738.09      Utilities  4900        Dadar   \n",
       "10      cust_1        tx_1_11   3854.26     Healthcare  8011        Dadar   \n",
       "11      cust_1        tx_1_12    598.64        Grocery  5411        Kurla   \n",
       "12      cust_1        tx_1_13   8940.52     Healthcare  8011        Kurla   \n",
       "13      cust_1        tx_1_14  35308.20    Electronics  5732  Navi Mumbai   \n",
       "\n",
       "       transaction_date               merchant_id country currency  \\\n",
       "0   2025-06-17 12:43:00      merchant_1_Grocery_1   India      INR   \n",
       "1   2025-06-17 12:42:55      merchant_1_Grocery_1   India      INR   \n",
       "2   2025-06-17 12:42:50      merchant_1_Grocery_1   India      INR   \n",
       "3   2025-06-17 12:42:45      merchant_1_Grocery_1   India      INR   \n",
       "4   2025-06-17 12:42:40      merchant_1_Grocery_1   India      INR   \n",
       "5   2025-06-17 12:42:32   merchant_1_Restaurant_2   India      INR   \n",
       "6   2025-06-17 12:41:32                merchant_3   India      INR   \n",
       "7   2025-06-17 12:38:32               merchant_12   India      INR   \n",
       "8   2025-06-17 12:37:32               merchant_15   India      INR   \n",
       "9   2025-06-17 12:36:32               merchant_12   India      INR   \n",
       "10  2025-06-17 12:32:32                merchant_2   India      INR   \n",
       "11  2025-06-17 12:31:32      merchant_1_Grocery_2   India      INR   \n",
       "12  2025-06-17 12:30:32   merchant_1_Healthcare_1   India      INR   \n",
       "13  2025-06-17 12:27:32  merchant_1_Electronics_1   India      INR   \n",
       "\n",
       "   payment_method payment_sub_type  pin_verified device_id       ip_address  \\\n",
       "0             CNP           Online         False       NaN              NaN   \n",
       "1             CNP           Online         False       NaN              NaN   \n",
       "2             CNP           Online         False       NaN  192.168.236.121   \n",
       "3             CNP           Online         False       NaN   192.168.197.64   \n",
       "4             CNP           Online         False       NaN  192.168.215.221   \n",
       "5     Contactless       Tap to Pay         False       NaN              NaN   \n",
       "6    Card Present         EMV Chip         False       NaN              NaN   \n",
       "7    Card Present        Token NFC          True  device_1              NaN   \n",
       "8             CNP           Online         False       NaN  192.168.236.121   \n",
       "9             CNP           Online         False       NaN   192.168.197.64   \n",
       "10            CNP           Online         False       NaN   192.168.129.60   \n",
       "11            CNP           Online         False       NaN   192.168.71.217   \n",
       "12            CNP           Online         False       NaN  192.168.164.128   \n",
       "13   Card Present       Mag Stripe         False       NaN              NaN   \n",
       "\n",
       "     latitude  longitude  alert_history  \n",
       "0   19.137221  72.927182           True  \n",
       "1   18.939719  72.811114           True  \n",
       "2         NaN        NaN           True  \n",
       "3         NaN        NaN           True  \n",
       "4         NaN        NaN           True  \n",
       "5   19.156429  72.965239           True  \n",
       "6   19.137221  72.927182           True  \n",
       "7   18.939719  72.811114           True  \n",
       "8         NaN        NaN           True  \n",
       "9         NaN        NaN           True  \n",
       "10        NaN        NaN           True  \n",
       "11        NaN        NaN           True  \n",
       "12        NaN        NaN           True  \n",
       "13  18.914898  72.942707           True  "
      ]
     },
     "execution_count": 17,
     "metadata": {},
     "output_type": "execute_result"
    }
   ],
   "source": [
    "transaction_data.head(20)"
   ]
  },
  {
   "cell_type": "code",
   "execution_count": 18,
   "metadata": {},
   "outputs": [
    {
     "data": {
      "text/plain": [
       "str"
      ]
     },
     "execution_count": 18,
     "metadata": {},
     "output_type": "execute_result"
    }
   ],
   "source": [
    "type(transaction_data.customer_id[0])"
   ]
  },
  {
   "cell_type": "code",
   "execution_count": 19,
   "metadata": {},
   "outputs": [],
   "source": [
    "tool = VelocityTransactions(transaction_data)"
   ]
  },
  {
   "cell_type": "code",
   "execution_count": 20,
   "metadata": {},
   "outputs": [
    {
     "data": {
      "text/plain": [
       "{'merchant_1_Grocery_1': {'mcc_count': 4,\n",
       "  'mccs_used': [5411, 5412, 5413, 5414],\n",
       "  'transaction_count': 5},\n",
       " 'merchant_12': {'mcc_count': 2,\n",
       "  'mccs_used': [5812, 4900],\n",
       "  'transaction_count': 2}}"
      ]
     },
     "execution_count": 20,
     "metadata": {},
     "output_type": "execute_result"
    }
   ],
   "source": [
    "tool._detect_mcc_switching_same_merchant(transaction_data.to_dict(orient='records'))"
   ]
  },
  {
   "cell_type": "code",
   "execution_count": 21,
   "metadata": {},
   "outputs": [
    {
     "data": {
      "text/plain": [
       "{'scenario_analysis': [{'scenario_id': '3.1',\n",
       "   'scenario_description': 'High velocity violations in multiple time windows',\n",
       "   'scenario_result': 'Not Fraud',\n",
       "   'rationale': 'No velocity violations detected across 10 time windows'},\n",
       "  {'scenario_id': '3.2',\n",
       "   'scenario_description': 'Unusual hours activity with rapid transaction sequences',\n",
       "   'scenario_result': 'Not Fraud',\n",
       "   'rationale': 'No unusual hours activity detected or insufficient transaction frequency'},\n",
       "  {'scenario_id': '3.3',\n",
       "   'scenario_description': 'Multi-dimensional velocity anomalies across payment channels',\n",
       "   'scenario_result': 'Probable Fraud',\n",
       "   'rationale': 'Velocity fraud patterns detected in 14 recent transactions: Same merchant accessed from multiple devices: 1 merchants affected; Same merchant transactions from multiple locations: 1 merchants affected; Same merchant accessed from multiple IPs: 2 merchants affected'}],\n",
       " 'overall_assessment': {'result': 'Probable Fraud',\n",
       "  'rationale': ['Velocity fraud patterns detected in 14 recent transactions: Same merchant accessed from multiple devices: 1 merchants affected; Same merchant transactions from multiple locations: 1 merchants affected; Same merchant accessed from multiple IPs: 2 merchants affected']},\n",
       " 'analysis_metrics': {'total_transactions_analyzed': 14,\n",
       "  'velocity_violations_count': 0,\n",
       "  'max_velocity_severity': 'NONE',\n",
       "  'avg_gap_minutes': 1.19,\n",
       "  'gap_violation': True,\n",
       "  'unusual_hours_detected': False,\n",
       "  'last_10_min_transactions': 0,\n",
       "  'multidimensional_anomalies_count': 8,\n",
       "  'recent_transaction_count': 14,\n",
       "  'avg_time_gap_threshold': 2}}"
      ]
     },
     "execution_count": 21,
     "metadata": {},
     "output_type": "execute_result"
    }
   ],
   "source": [
    "from datetime import datetime\n",
    "tool_result = await tool.execute(customer_id=\"cust_1\",\n",
    "                                 transaction_timestamp=datetime.now())\n",
    "tool_result.result"
   ]
  },
  {
   "cell_type": "markdown",
   "metadata": {},
   "source": [
    "---"
   ]
  },
  {
   "cell_type": "markdown",
   "metadata": {},
   "source": [
    "## Transactions - Time/Day of Week"
   ]
  },
  {
   "cell_type": "code",
   "execution_count": null,
   "metadata": {},
   "outputs": [],
   "source": [
    "from src.tools.transactions.time_day import TimeDayTransactions"
   ]
  },
  {
   "cell_type": "code",
   "execution_count": null,
   "metadata": {},
   "outputs": [],
   "source": [
    "tool = TimeDayTransactions(transaction_data)"
   ]
  },
  {
   "cell_type": "code",
   "execution_count": null,
   "metadata": {},
   "outputs": [],
   "source": [
    "from datetime import datetime\n",
    "tool_result = await tool.execute(customer_id=\"1\",\n",
    "                                 transaction_timestamp=datetime.now(),\n",
    "                                 transaction_amount=1000)\n",
    "tool_result.result"
   ]
  },
  {
   "cell_type": "markdown",
   "metadata": {},
   "source": [
    "## Transactions - Amount"
   ]
  },
  {
   "cell_type": "code",
   "execution_count": null,
   "metadata": {},
   "outputs": [],
   "source": [
    "from src.tools.transactions.amount import AmountTransactions"
   ]
  },
  {
   "cell_type": "code",
   "execution_count": null,
   "metadata": {},
   "outputs": [],
   "source": [
    "tool = AmountTransactions(transaction_data)"
   ]
  },
  {
   "cell_type": "code",
   "execution_count": null,
   "metadata": {},
   "outputs": [],
   "source": [
    "tool_result = await tool.execute(customer_id=\"1\",\n",
    "                                 transaction_amount=10000,\n",
    "                                 category=\"Gambling\",\n",
    "                                 merchant_id=\"gbnvbn\",\n",
    "                                 lookback_days=180)\n",
    "tool_result.result"
   ]
  },
  {
   "cell_type": "markdown",
   "metadata": {},
   "source": [
    "---"
   ]
  },
  {
   "cell_type": "markdown",
   "metadata": {},
   "source": [
    "## Transactions - Average Ticket Size"
   ]
  },
  {
   "cell_type": "code",
   "execution_count": null,
   "metadata": {},
   "outputs": [],
   "source": [
    "from src.tools.transactions.average_ticket_size import AverageTicketSizeTransactions"
   ]
  },
  {
   "cell_type": "code",
   "execution_count": null,
   "metadata": {},
   "outputs": [],
   "source": [
    "tool = AverageTicketSizeTransactions(transaction_data)"
   ]
  },
  {
   "cell_type": "code",
   "execution_count": null,
   "metadata": {},
   "outputs": [],
   "source": [
    "tool_result = await tool.execute(customer_id=\"1\",\n",
    "                                transaction_amount=10000,\n",
    "                                 category=\"Electronics\",\n",
    "                                 merchant_id=\"merchant_1_Electronics_1\",\n",
    "                                 lookback_days=180)\n",
    "tool_result.result"
   ]
  },
  {
   "cell_type": "markdown",
   "metadata": {},
   "source": [
    "---"
   ]
  },
  {
   "cell_type": "markdown",
   "metadata": {},
   "source": [
    "## Transactions - Risky MCC"
   ]
  },
  {
   "cell_type": "code",
   "execution_count": null,
   "metadata": {},
   "outputs": [],
   "source": [
    "from src.tools.transactions.risky_mcc import RiskyMCCTransactions"
   ]
  },
  {
   "cell_type": "code",
   "execution_count": null,
   "metadata": {},
   "outputs": [],
   "source": [
    "tool = RiskyMCCTransactions(transaction_data)"
   ]
  },
  {
   "cell_type": "code",
   "execution_count": null,
   "metadata": {},
   "outputs": [],
   "source": [
    "tool_result = await tool.execute(customer_id=\"1\",\n",
    "                                 mcc=\"7995\",\n",
    "                                 risky_mccs=[\"5999\", \"7995\", \"5912\"])\n",
    "tool_result.result"
   ]
  },
  {
   "cell_type": "markdown",
   "metadata": {},
   "source": [
    "---"
   ]
  },
  {
   "cell_type": "markdown",
   "metadata": {},
   "source": [
    "## Transactions - First Time Alert"
   ]
  },
  {
   "cell_type": "code",
   "execution_count": null,
   "metadata": {},
   "outputs": [],
   "source": [
    "from src.tools.transactions.first_time_alert import FirstTimeAlertTransactions"
   ]
  },
  {
   "cell_type": "code",
   "execution_count": null,
   "metadata": {},
   "outputs": [],
   "source": [
    "tool = FirstTimeAlertTransactions(transaction_data)"
   ]
  },
  {
   "cell_type": "code",
   "execution_count": null,
   "metadata": {},
   "outputs": [],
   "source": [
    "tool_result = await tool.execute(customer_id=\"1\")\n",
    "tool_result.result"
   ]
  },
  {
   "cell_type": "markdown",
   "metadata": {},
   "source": [
    "---"
   ]
  },
  {
   "cell_type": "markdown",
   "metadata": {},
   "source": [
    "## Transactions - Risky Country and Currency"
   ]
  },
  {
   "cell_type": "code",
   "execution_count": null,
   "metadata": {},
   "outputs": [],
   "source": [
    "from src.tools.transactions.risky_country_currency import RiskyCountryCurrencyTransactions"
   ]
  },
  {
   "cell_type": "code",
   "execution_count": null,
   "metadata": {},
   "outputs": [],
   "source": [
    "tool = RiskyCountryCurrencyTransactions(transaction_data)"
   ]
  },
  {
   "cell_type": "code",
   "execution_count": null,
   "metadata": {},
   "outputs": [],
   "source": [
    "tool_result = await tool.execute(customer_id=\"1\",\n",
    "                                 country=\"NG\",\n",
    "                                 currency=\"NGN\",\n",
    "                                 risky_countries=[\"NG\", \"RU\", \"IR\", \"KP\", \"AF\"],\n",
    "                                 risky_currencies=[\"NGN\", \"RUB\", \"IRR\", \"KPW\", \"AFN\", \"SYP\", \"VES\", \"ZWL\"])\n",
    "tool_result.result"
   ]
  },
  {
   "cell_type": "markdown",
   "metadata": {},
   "source": [
    "---"
   ]
  },
  {
   "cell_type": "markdown",
   "metadata": {},
   "source": [
    "## Transactions - Card Present"
   ]
  },
  {
   "cell_type": "code",
   "execution_count": null,
   "metadata": {},
   "outputs": [],
   "source": [
    "from src.tools.transactions.card_present import CardPresentTransactions"
   ]
  },
  {
   "cell_type": "code",
   "execution_count": null,
   "metadata": {},
   "outputs": [],
   "source": [
    "tool = CardPresentTransactions(transaction_data)"
   ]
  },
  {
   "cell_type": "code",
   "execution_count": null,
   "metadata": {},
   "outputs": [],
   "source": [
    "tool_result = await tool.execute(customer_id=\"1\",\n",
    "                                 merchant_id=\"merchant_1\",\n",
    "                                 card_present=True,\n",
    "                                 location=\"Dadar\")\n",
    "tool_result.result"
   ]
  },
  {
   "cell_type": "markdown",
   "metadata": {},
   "source": [
    "---"
   ]
  },
  {
   "cell_type": "markdown",
   "metadata": {},
   "source": [
    "## Transactions - Contactless"
   ]
  },
  {
   "cell_type": "code",
   "execution_count": null,
   "metadata": {},
   "outputs": [],
   "source": [
    "from src.tools.transactions.contactless import ContactlessTransactions"
   ]
  },
  {
   "cell_type": "code",
   "execution_count": null,
   "metadata": {},
   "outputs": [],
   "source": [
    "tool = ContactlessTransactions(transaction_data)"
   ]
  },
  {
   "cell_type": "code",
   "execution_count": null,
   "metadata": {},
   "outputs": [],
   "source": [
    "tool_result = await tool.execute(customer_id=\"1\",\n",
    "                                 merchant_id=\"merchant_1_Electronics_1\",\n",
    "                                 payment_method=\"Contactless\",\n",
    "                                 transaction_amount=1000)\n",
    "tool_result.result"
   ]
  },
  {
   "cell_type": "markdown",
   "metadata": {},
   "source": [
    "---"
   ]
  },
  {
   "cell_type": "markdown",
   "metadata": {},
   "source": [
    "## Transactions - Token NFC"
   ]
  },
  {
   "cell_type": "code",
   "execution_count": null,
   "metadata": {},
   "outputs": [],
   "source": [
    "from src.tools.transactions.token_nfc import TokenNFCTransactions"
   ]
  },
  {
   "cell_type": "code",
   "execution_count": null,
   "metadata": {},
   "outputs": [],
   "source": [
    "tool = TokenNFCTransactions(transaction_data)"
   ]
  },
  {
   "cell_type": "code",
   "execution_count": null,
   "metadata": {},
   "outputs": [],
   "source": [
    "tool_result = await tool.execute(customer_id=\"1\",\n",
    "                                 payment_sub_type=\"Token NFC\",\n",
    "                                 device_id=\"device_1\")\n",
    "tool_result.result"
   ]
  },
  {
   "cell_type": "markdown",
   "metadata": {},
   "source": [
    "---"
   ]
  },
  {
   "cell_type": "markdown",
   "metadata": {},
   "source": [
    "## Transactions - Pin verified"
   ]
  },
  {
   "cell_type": "code",
   "execution_count": null,
   "metadata": {},
   "outputs": [],
   "source": [
    "from src.tools.transactions.pin_verified import PinVerifiedTransactions"
   ]
  },
  {
   "cell_type": "code",
   "execution_count": null,
   "metadata": {},
   "outputs": [],
   "source": [
    "tool = PinVerifiedTransactions(transaction_data)"
   ]
  },
  {
   "cell_type": "code",
   "execution_count": null,
   "metadata": {},
   "outputs": [],
   "source": [
    "tool_result = await tool.execute(customer_id=\"1\",\n",
    "                                 merchant_id=\"merchant_1\",\n",
    "                                 pin_verified=True,\n",
    "                                 location=\"Andheri\",\n",
    "                                 amount=5000)\n",
    "tool_result.result"
   ]
  },
  {
   "cell_type": "markdown",
   "metadata": {},
   "source": [
    "---"
   ]
  },
  {
   "cell_type": "markdown",
   "metadata": {},
   "source": [
    "## Transactions - Mag Stripe"
   ]
  },
  {
   "cell_type": "code",
   "execution_count": null,
   "metadata": {},
   "outputs": [],
   "source": [
    "from src.tools.transactions.mag_stripe import MagStripeTransactions"
   ]
  },
  {
   "cell_type": "code",
   "execution_count": null,
   "metadata": {},
   "outputs": [],
   "source": [
    "tool = MagStripeTransactions(transaction_data)"
   ]
  },
  {
   "cell_type": "code",
   "execution_count": null,
   "metadata": {},
   "outputs": [],
   "source": [
    "tool_result = await tool.execute(customer_id=\"1\",\n",
    "                                 payment_sub_type=\"Mag Stripe\",\n",
    "                                 location=\"Bandra\")\n",
    "tool_result.result"
   ]
  },
  {
   "cell_type": "markdown",
   "metadata": {},
   "source": [
    "---"
   ]
  },
  {
   "cell_type": "markdown",
   "metadata": {},
   "source": [
    "## Transactions - Card Not Present"
   ]
  },
  {
   "cell_type": "code",
   "execution_count": null,
   "metadata": {},
   "outputs": [],
   "source": [
    "from src.tools.transactions.card_not_present import CNPTransactions"
   ]
  },
  {
   "cell_type": "code",
   "execution_count": null,
   "metadata": {},
   "outputs": [],
   "source": [
    "tool = CNPTransactions(transaction_data)"
   ]
  },
  {
   "cell_type": "code",
   "execution_count": null,
   "metadata": {},
   "outputs": [],
   "source": [
    "tool_result = await tool.execute(customer_id=\"1\",\n",
    "                                 merchant_id=\"merchant_1\",\n",
    "                                 payment_method=\"CNP\",\n",
    "                                 ip_address=\"192.168.211.176\")\n",
    "tool_result.result"
   ]
  },
  {
   "cell_type": "markdown",
   "metadata": {},
   "source": [
    "---"
   ]
  },
  {
   "cell_type": "markdown",
   "metadata": {},
   "source": [
    "## Transactions - Geo Location between two Transactions"
   ]
  },
  {
   "cell_type": "code",
   "execution_count": null,
   "metadata": {},
   "outputs": [],
   "source": [
    "from src.tools.transactions.geo_location import GeoLocationTransactions"
   ]
  },
  {
   "cell_type": "code",
   "execution_count": null,
   "metadata": {},
   "outputs": [],
   "source": [
    "tool = GeoLocationTransactions(transaction_data)"
   ]
  },
  {
   "cell_type": "code",
   "execution_count": null,
   "metadata": {},
   "outputs": [],
   "source": [
    "tool_result = await tool.execute(customer_id=\"1\",\n",
    "                                 lattitude=\"19.153658\",\n",
    "                                 longitude=\"72.951046\",\n",
    "                                 transaction_timestamp=datetime.now())\n",
    "tool_result.result"
   ]
  },
  {
   "cell_type": "markdown",
   "metadata": {},
   "source": [
    "---"
   ]
  },
  {
   "cell_type": "code",
   "execution_count": null,
   "metadata": {},
   "outputs": [],
   "source": [
    "from datetime import datetime\n",
    "from src.core.schemas import Alert\n",
    "\n",
    "# Create a sample alert\n",
    "sample_alert = Alert(\n",
    "    alert_id=\"alert_001\",\n",
    "    customer_id=1,\n",
    "    transaction_id=\"tx_1\",\n",
    "    merchant_id=\"sus_merchant_1\",\n",
    "    transaction_amount=5000,\n",
    "    transaction_timestamp=datetime.now(),\n",
    "    merchant_category=\"Gambling\",\n",
    "    merchant_category_code=7995,\n",
    "    location=\"Andheri\",\n",
    "    country=\"India\",\n",
    "    currency=\"INR\",\n",
    "    payment_method=\"Contactless\",\n",
    "    payment_sub_type=\"Mobile Wallet\",\n",
    "    pin_verified=False,\n",
    "    device_id=\"device_1\",\n",
    "    ip_address=\"192.168.211.176\",\n",
    "    latitude=\"19.153658\",\n",
    "    longitude=\"72.951046\"\n",
    ")"
   ]
  },
  {
   "cell_type": "code",
   "execution_count": null,
   "metadata": {},
   "outputs": [],
   "source": [
    "from src.pipeline import AlertAnalysisPipeline"
   ]
  },
  {
   "cell_type": "code",
   "execution_count": null,
   "metadata": {},
   "outputs": [],
   "source": [
    "pipeline = AlertAnalysisPipeline(alert=sample_alert)"
   ]
  },
  {
   "cell_type": "code",
   "execution_count": null,
   "metadata": {},
   "outputs": [],
   "source": [
    "pipeline_steps = await pipeline.investigate_alert()"
   ]
  },
  {
   "cell_type": "code",
   "execution_count": null,
   "metadata": {},
   "outputs": [],
   "source": [
    "pipeline_steps.messages"
   ]
  },
  {
   "cell_type": "code",
   "execution_count": null,
   "metadata": {},
   "outputs": [],
   "source": [
    "for tool_result in pipeline_steps.messages[2].content:\n",
    "    print(tool_result.content)"
   ]
  },
  {
   "cell_type": "code",
   "execution_count": null,
   "metadata": {},
   "outputs": [],
   "source": [
    "pipeline_steps.messages[-1].content.model_dump()"
   ]
  },
  {
   "cell_type": "code",
   "execution_count": null,
   "metadata": {},
   "outputs": [],
   "source": [
    "print(pipeline_steps.messages[-1].content.model_dump()['detailed_explanation'])"
   ]
  },
  {
   "cell_type": "markdown",
   "metadata": {},
   "source": [
    "---"
   ]
  },
  {
   "cell_type": "code",
   "execution_count": null,
   "metadata": {},
   "outputs": [],
   "source": [
    "from src.agents.velocity import VelocityAnalysisAgent"
   ]
  },
  {
   "cell_type": "code",
   "execution_count": null,
   "metadata": {},
   "outputs": [],
   "source": [
    "velocity_analysis_agent  = VelocityAnalysisAgent(alert=sample_alert,\n",
    "                                                 transaction_data=transaction_data)"
   ]
  },
  {
   "cell_type": "code",
   "execution_count": null,
   "metadata": {},
   "outputs": [],
   "source": [
    "agent_result = await velocity_analysis_agent.execute_task()"
   ]
  },
  {
   "cell_type": "code",
   "execution_count": null,
   "metadata": {},
   "outputs": [],
   "source": [
    "agent_result.messages"
   ]
  },
  {
   "cell_type": "code",
   "execution_count": null,
   "metadata": {},
   "outputs": [],
   "source": [
    "for tool_result in agent_result.messages[2].content:\n",
    "    print(tool_result.content)"
   ]
  },
  {
   "cell_type": "code",
   "execution_count": null,
   "metadata": {},
   "outputs": [],
   "source": [
    "agent_result.messages[-1].content.model_dump()"
   ]
  },
  {
   "cell_type": "code",
   "execution_count": null,
   "metadata": {},
   "outputs": [],
   "source": [
    "print(agent_result.messages[-1].content.model_dump()['detailed_explanation'])"
   ]
  },
  {
   "cell_type": "code",
   "execution_count": null,
   "metadata": {},
   "outputs": [],
   "source": []
  }
 ],
 "metadata": {
  "kernelspec": {
   "display_name": "inventic",
   "language": "python",
   "name": "python3"
  },
  "language_info": {
   "codemirror_mode": {
    "name": "ipython",
    "version": 3
   },
   "file_extension": ".py",
   "mimetype": "text/x-python",
   "name": "python",
   "nbconvert_exporter": "python",
   "pygments_lexer": "ipython3",
   "version": "3.12.8"
  }
 },
 "nbformat": 4,
 "nbformat_minor": 2
}
