{
 "cells": [
  {
   "cell_type": "code",
   "execution_count": 1,
   "id": "75e6b79d",
   "metadata": {},
   "outputs": [],
   "source": [
    "from src.utils.data_generator import SampleTransactionsDataGenerator"
   ]
  },
  {
   "cell_type": "code",
   "execution_count": 2,
   "id": "6b85c656",
   "metadata": {},
   "outputs": [],
   "source": [
    "data_wrapper = SampleTransactionsDataGenerator()"
   ]
  },
  {
   "cell_type": "code",
   "execution_count": 3,
   "id": "2a9eaa73",
   "metadata": {},
   "outputs": [],
   "source": [
    "# data_wrapper.get_user_transactions(customer_id=\"1\")"
   ]
  },
  {
   "cell_type": "code",
   "execution_count": 4,
   "id": "31c34f46",
   "metadata": {},
   "outputs": [],
   "source": [
    "from src.checks.velocity.time_window import TimeWindowCheck"
   ]
  },
  {
   "cell_type": "code",
   "execution_count": 5,
   "id": "80187bd7",
   "metadata": {},
   "outputs": [],
   "source": [
    "check  = TimeWindowCheck()"
   ]
  },
  {
   "cell_type": "code",
   "execution_count": 6,
   "id": "7c9a336f",
   "metadata": {},
   "outputs": [
    {
     "data": {
      "text/plain": [
       "CheckResult(check_name='Time Window Check', success=True, result='Velocity time window analysis completed', description='Analyzed transaction velocity against configured time windows and thresholds.', category=<CheckCategory.VELOCITY: 'velocity'>, analysis={'velocity_violations': [], 'window_counts': {1: 0, 2: 0, 3: 0, 5: 0, 10: 0, 15: 0, 20: 0, 60: 0, 360: 0, 1440: 0}}, error=None)"
      ]
     },
     "execution_count": 6,
     "metadata": {},
     "output_type": "execute_result"
    }
   ],
   "source": [
    "from datetime import datetime, timedelta\n",
    "check_result = await check.execute(customer_id=\"1\", \n",
    "                                   alert_timestamp=datetime.now() - timedelta(days=1))\n",
    "check_result"
   ]
  }
 ],
 "metadata": {
  "kernelspec": {
   "display_name": "inventic",
   "language": "python",
   "name": "python3"
  },
  "language_info": {
   "codemirror_mode": {
    "name": "ipython",
    "version": 3
   },
   "file_extension": ".py",
   "mimetype": "text/x-python",
   "name": "python",
   "nbconvert_exporter": "python",
   "pygments_lexer": "ipython3",
   "version": "3.12.8"
  }
 },
 "nbformat": 4,
 "nbformat_minor": 5
}
